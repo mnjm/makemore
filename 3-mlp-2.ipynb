{
 "cells": [
  {
   "cell_type": "code",
   "execution_count": 1,
   "id": "b4d34b2e",
   "metadata": {},
   "outputs": [],
   "source": [
    "import torch\n",
    "import torch.nn.functional as F\n",
    "from matplotlib import pyplot as plt"
   ]
  },
  {
   "cell_type": "code",
   "execution_count": 2,
   "id": "948fdd41",
   "metadata": {},
   "outputs": [
    {
     "data": {
      "text/plain": [
       "['emma', 'olivia', 'ava', 'isabella', 'sophia', 'charlotte', 'mia', 'amelia']"
      ]
     },
     "execution_count": 2,
     "metadata": {},
     "output_type": "execute_result"
    }
   ],
   "source": [
    "words = open(\"./names.txt\").read().splitlines()\n",
    "words[:8]"
   ]
  },
  {
   "cell_type": "code",
   "execution_count": 3,
   "id": "8151baa5",
   "metadata": {},
   "outputs": [
    {
     "name": "stdout",
     "output_type": "stream",
     "text": [
      "{'a': 1, 'b': 2, 'c': 3, 'd': 4, 'e': 5, 'f': 6, 'g': 7, 'h': 8, 'i': 9, 'j': 10, 'k': 11, 'l': 12, 'm': 13, 'n': 14, 'o': 15, 'p': 16, 'q': 17, 'r': 18, 's': 19, 't': 20, 'u': 21, 'v': 22, 'w': 23, 'x': 24, 'y': 25, 'z': 26, '.': 0}\n"
     ]
    }
   ],
   "source": [
    "chars = sorted(list(set(\"\".join(words))))\n",
    "stoi = {s: i + 1 for i, s in enumerate(chars)}\n",
    "stoi[\".\"] = 0\n",
    "itos = {i: s for s, i in stoi.items()}\n",
    "vocab_size = len(itos)\n",
    "print(stoi)"
   ]
  },
  {
   "cell_type": "code",
   "execution_count": 4,
   "id": "cd449de5",
   "metadata": {},
   "outputs": [
    {
     "name": "stdout",
     "output_type": "stream",
     "text": [
      "torch.Size([182625, 3]) torch.Size([182625])\n",
      "torch.Size([22655, 3]) torch.Size([22655])\n",
      "torch.Size([22866, 3]) torch.Size([22866])\n"
     ]
    }
   ],
   "source": [
    "block_size = 3\n",
    "\n",
    "def build_dataset(words):\n",
    "    X, Y = [], []\n",
    "    for w in words:\n",
    "        context = [0] * block_size\n",
    "        for ch in w + \".\":\n",
    "            ix = stoi[ch]\n",
    "            X.append(context)\n",
    "            Y.append(ix)\n",
    "            context = context[1:] + [ix]\n",
    "\n",
    "    X = torch.tensor(X)\n",
    "    Y = torch.tensor(Y)\n",
    "    return X, Y\n",
    "\n",
    "import random\n",
    "\n",
    "random.seed(42)\n",
    "random.shuffle(words)\n",
    "n8 = int(0.8 * len(words))\n",
    "n9 = int(0.9 * len(words))\n",
    "Xtr, Ytr = build_dataset(words[:n8])\n",
    "Xde, Yde = build_dataset(words[n8:n9])\n",
    "Xte, Yte = build_dataset(words[n9:])\n",
    "\n",
    "print(Xtr.shape, Ytr.shape)\n",
    "print(Xde.shape, Yde.shape)\n",
    "print(Xte.shape, Yte.shape)"
   ]
  },
  {
   "cell_type": "markdown",
   "id": "db9eef7c",
   "metadata": {},
   "source": [
    "## Looking at Weight Init"
   ]
  },
  {
   "cell_type": "code",
   "execution_count": 5,
   "id": "c17c320c",
   "metadata": {},
   "outputs": [
    {
     "name": "stdout",
     "output_type": "stream",
     "text": [
      "11897\n"
     ]
    }
   ],
   "source": [
    "n_emb = 10 # number of embedding dim\n",
    "n_hidden = 200 # number of hidden neurons\n",
    "\n",
    "g = torch.Generator().manual_seed(2147483647)\n",
    "C = torch.randn((vocab_size, n_emb), generator=g)\n",
    "W1 = torch.randn((n_emb * block_size, n_hidden), generator=g)\n",
    "b1 = torch.randn(n_hidden, generator=g)\n",
    "W2 = torch.randn((n_hidden, vocab_size), generator=g)\n",
    "b2 = torch.randn(vocab_size, generator=g)\n",
    "\n",
    "parameters = [C, W1, b1, W2, b2]\n",
    "print(sum(p.nelement() for p in parameters))\n",
    "for p in parameters:\n",
    "    p.requires_grad = True"
   ]
  },
  {
   "cell_type": "code",
   "execution_count": 6,
   "id": "74468c23",
   "metadata": {},
   "outputs": [
    {
     "name": "stdout",
     "output_type": "stream",
     "text": [
      "      0/ 200000 26.0674\n",
      "  10000/ 200000 2.2853\n",
      "  20000/ 200000 2.7830\n",
      "  30000/ 200000 2.2377\n",
      "  40000/ 200000 2.5488\n",
      "  50000/ 200000 2.4466\n",
      "  60000/ 200000 2.2081\n",
      "  70000/ 200000 2.3391\n",
      "  80000/ 200000 1.9113\n",
      "  90000/ 200000 2.0726\n",
      " 100000/ 200000 2.5233\n",
      " 110000/ 200000 2.2451\n",
      " 120000/ 200000 2.2481\n",
      " 130000/ 200000 1.8928\n",
      " 140000/ 200000 1.8328\n",
      " 150000/ 200000 2.0571\n",
      " 160000/ 200000 2.3397\n",
      " 170000/ 200000 2.1798\n",
      " 180000/ 200000 1.8868\n",
      " 190000/ 200000 1.9591\n"
     ]
    }
   ],
   "source": [
    "max_steps = 200000\n",
    "batch_size = 32\n",
    "lossi = []\n",
    "\n",
    "for k in range(max_steps):\n",
    "    \n",
    "    # minibatch\n",
    "    ix = torch.randint(0, Xtr.shape[0], (batch_size,))\n",
    "    Xb, Yb = Xtr[ix], Ytr[ix]\n",
    "    \n",
    "    # forward pass\n",
    "    emb = C[Xb] # (batch_size, block_size, n_emb)\n",
    "    embcat = emb.view(emb.shape[0], n_emb * block_size)\n",
    "    hpreact = embcat @ W1 + b1 # (batch_size, n_hidden)\n",
    "    h = torch.tanh(hpreact)\n",
    "    logits = h @ W2 + b2 #(batch_size, vocab_size)\n",
    "    loss = F.cross_entropy(logits, Yb)\n",
    "    \n",
    "    # backward pass\n",
    "    for p in parameters:\n",
    "        p.grad = None\n",
    "    loss.backward()\n",
    "    \n",
    "    # update params\n",
    "    lr = 0.1 if k < 100000 else 0.01 # step learning rate decay\n",
    "    for p in parameters:\n",
    "        p.data += -lr * p.grad\n",
    "    \n",
    "    if k % 10000 == 0:\n",
    "        print(f\"{k:7d}/{max_steps:7d} {loss.item():.4f}\")\n",
    "        \n",
    "    lossi.append(loss.log10().item())"
   ]
  },
  {
   "cell_type": "code",
   "execution_count": 7,
   "id": "b83a315b",
   "metadata": {},
   "outputs": [
    {
     "data": {
      "text/plain": [
       "[<matplotlib.lines.Line2D at 0x14ae70680>]"
      ]
     },
     "execution_count": 7,
     "metadata": {},
     "output_type": "execute_result"
    },
    {
     "data": {
      "image/png": "[encoded data removed]",
      "text/plain": [
       "<Figure size 640x480 with 1 Axes>"
      ]
     },
     "metadata": {},
     "output_type": "display_data"
    }
   ],
   "source": [
    "plt.plot(lossi)"
   ]
  },
  {
   "cell_type": "code",
   "execution_count": 8,
   "id": "2ee9cf20",
   "metadata": {},
   "outputs": [
    {
     "name": "stdout",
     "output_type": "stream",
     "text": [
      "train 2.122992753982544\n",
      "dev 2.167567729949951\n"
     ]
    }
   ],
   "source": [
    "@torch.no_grad() # disables grad tracking\n",
    "def split_loss(split):\n",
    "    X, Y = {\n",
    "        \"train\": (Xtr, Ytr),\n",
    "        \"dev\": (Xde, Yde),\n",
    "        \"test\": (Xte, Yte)\n",
    "    }[split]\n",
    "    emb = C[X]\n",
    "    h = torch.tanh( emb.view(-1, 30) @ W1 + b1 )\n",
    "    logits = h @ W2 + b2\n",
    "    loss = F.cross_entropy(logits, Y)\n",
    "    print(split, loss.item()) \n",
    "\n",
    "split_loss('train')\n",
    "split_loss('dev')"
   ]
  },
  {
   "cell_type": "code",
   "execution_count": 9,
   "id": "10439068",
   "metadata": {},
   "outputs": [
    {
     "name": "stdout",
     "output_type": "stream",
     "text": [
      "carmah\n",
      "amelle\n",
      "khi\n",
      "mili\n",
      "taty\n",
      "salaysie\n",
      "rah\n",
      "tafamdryst\n",
      "kaeli\n",
      "ner\n",
      "kia\n",
      "chaiiv\n",
      "kaleigh\n",
      "ham\n",
      "jory\n",
      "quinn\n",
      "sulivea\n",
      "jadii\n",
      "wajt\n",
      "madiaryxik\n"
     ]
    }
   ],
   "source": [
    "g = torch.Generator().manual_seed(2147483647 + 10)\n",
    "\n",
    "for _ in range(20):\n",
    "    \n",
    "    context = [0] * block_size\n",
    "    out = []\n",
    "    while True:\n",
    "        emb = C[torch.tensor([context])] # (1, block_size, 10)\n",
    "        h = torch.tanh( emb.view(-1, n_emb * block_size) @ W1 + b1 )\n",
    "        logits = h @ W2 + b2\n",
    "        probs = F.softmax(logits, dim=1)\n",
    "        ix = torch.multinomial(probs, num_samples=1, generator=g).item()\n",
    "        if ix == 0:\n",
    "            break\n",
    "        context = context[1:] + [ix]\n",
    "        out.append(itos[ix])\n",
    "    \n",
    "    print(''.join(out))"
   ]
  },
  {
   "cell_type": "markdown",
   "id": "f601540a",
   "metadata": {},
   "source": [
    "### There are 2 issues with training this network\n",
    "\n",
    "#### 1. Notice loss at 0 is high \n",
    "\n",
    "**loss_0 = ~25 and rapidly comes down** - Weights Init is messed up\n",
    "\n",
    "You would typically want loss such that logits are either 0 or equally distributed initially with a little bit of entropy for exploration. So loss at step 0 should be ~$-\\log(1/27.0)$ where 27 is n_class"
   ]
  },
  {
   "cell_type": "code",
   "execution_count": 10,
   "id": "8ab37cc8",
   "metadata": {},
   "outputs": [
    {
     "data": {
      "text/plain": [
       "tensor(3.2958)"
      ]
     },
     "execution_count": 10,
     "metadata": {},
     "output_type": "execute_result"
    }
   ],
   "source": [
    "- torch.tensor(1 / 27.0).log()"
   ]
  },
  {
   "cell_type": "code",
   "execution_count": 11,
   "id": "70aa8056",
   "metadata": {},
   "outputs": [
    {
     "data": {
      "text/plain": [
       "(tensor([0.2500, 0.2500, 0.2500, 0.2500]), tensor(1.3863))"
      ]
     },
     "execution_count": 11,
     "metadata": {},
     "output_type": "execute_result"
    }
   ],
   "source": [
    "# 4-deminsional example of the issue\n",
    "logits = torch.tensor([0.0, 0.0, 0.0, 0.0])\n",
    "probs = torch.softmax(logits, dim=0) # Uniform probs\n",
    "loss = -probs[2].log()\n",
    "probs, loss"
   ]
  },
  {
   "cell_type": "code",
   "execution_count": 12,
   "id": "6817a67a",
   "metadata": {},
   "outputs": [
    {
     "data": {
      "text/plain": [
       "(tensor([1.0000e+00, 0.0000e+00, 1.8959e-33, 0.0000e+00]), tensor(75.3456))"
      ]
     },
     "execution_count": 12,
     "metadata": {},
     "output_type": "execute_result"
    }
   ],
   "source": [
    "# 4-deminsional example of the issue\n",
    "# logits = torch.tensor([-3.0, 5.0, 0.0, 4.0])\n",
    "logits = torch.randn(4) * 100\n",
    "probs = torch.softmax(logits, dim=0)\n",
    "loss = -probs[2].log()\n",
    "probs, loss"
   ]
  },
  {
   "cell_type": "markdown",
   "id": "c7839399",
   "metadata": {},
   "source": [
    "Solution\n",
    "\n",
    "1. Set last bias to 0s\n",
    "2. Set the weights to have low values.\n",
    "\n",
    "Note: Setting to zero might give us the exact loss we are looking for, but it might result in dead neurons."
   ]
  },
  {
   "cell_type": "code",
   "execution_count": 13,
   "id": "d92503a1",
   "metadata": {},
   "outputs": [
    {
     "name": "stdout",
     "output_type": "stream",
     "text": [
      "11897\n"
     ]
    }
   ],
   "source": [
    "n_emb = 10  # number of embedding dim\n",
    "n_hidden = 200  # number of hidden neurons\n",
    "\n",
    "g = torch.Generator().manual_seed(2147483647)\n",
    "C = torch.randn((vocab_size, n_emb), generator=g)\n",
    "W1 = torch.randn((n_emb * block_size, n_hidden), generator=g)\n",
    "b1 = torch.randn(n_hidden, generator=g)\n",
    "W2 = torch.randn((n_hidden, vocab_size), generator=g) * 0.01 # <----\n",
    "b2 = torch.randn(vocab_size, generator=g) * 0 # <-----\n",
    "\n",
    "parameters = [C, W1, b1, W2, b2]\n",
    "print(sum(p.nelement() for p in parameters))\n",
    "for p in parameters:\n",
    "    p.requires_grad = True"
   ]
  },
  {
   "cell_type": "code",
   "execution_count": 16,
   "id": "641f6303",
   "metadata": {},
   "outputs": [
    {
     "name": "stdout",
     "output_type": "stream",
     "text": [
      "      0/ 200000 3.2014\n",
      "  10000/ 200000 2.9326\n",
      "  20000/ 200000 1.9115\n",
      "  30000/ 200000 2.6776\n",
      "  40000/ 200000 2.0292\n",
      "  50000/ 200000 2.1914\n",
      "  60000/ 200000 2.3891\n",
      "  70000/ 200000 2.2798\n",
      "  80000/ 200000 2.2999\n",
      "  90000/ 200000 2.7477\n",
      " 100000/ 200000 2.4051\n",
      " 110000/ 200000 2.3074\n",
      " 120000/ 200000 2.1180\n",
      " 130000/ 200000 1.9129\n",
      " 140000/ 200000 1.8783\n",
      " 150000/ 200000 2.0198\n",
      " 160000/ 200000 2.3820\n",
      " 170000/ 200000 2.1228\n",
      " 180000/ 200000 2.0255\n",
      " 190000/ 200000 1.8847\n"
     ]
    }
   ],
   "source": [
    "max_steps = 200000\n",
    "batch_size = 32\n",
    "lossi = []\n",
    "h_first, hpreact_first = None, None\n",
    "\n",
    "for k in range(max_steps):\n",
    "    # minibatch\n",
    "    ix = torch.randint(0, Xtr.shape[0], (batch_size,))\n",
    "    Xb, Yb = Xtr[ix], Ytr[ix]\n",
    "\n",
    "    # forward pass\n",
    "    emb = C[Xb]  # (batch_size, block_size, n_emb)\n",
    "    embcat = emb.view(emb.shape[0], n_emb * block_size)\n",
    "    hpreact = embcat @ W1 + b1  # (batch_size, n_hidden)\n",
    "    h = torch.tanh(hpreact)\n",
    "    if h_first is None:\n",
    "        hpreact_first = hpreact\n",
    "        h_first = h\n",
    "    logits = h @ W2 + b2  # (batch_size, vocab_size)\n",
    "    loss = F.cross_entropy(logits, Yb)\n",
    "\n",
    "    # backward pass\n",
    "    for p in parameters:\n",
    "        p.grad = None\n",
    "    loss.backward()\n",
    "\n",
    "    # update params\n",
    "    lr = 0.1 if k < 100000 else 0.01  # step learning rate decay\n",
    "    for p in parameters:\n",
    "        p.data += -lr * p.grad\n",
    "\n",
    "    if k % 10000 == 0:\n",
    "        print(f\"{k:7d}/{max_steps:7d} {loss.item():.4f}\")\n",
    "\n",
    "    lossi.append(loss.log10().item())"
   ]
  },
  {
   "cell_type": "code",
   "execution_count": 17,
   "id": "ef258161",
   "metadata": {},
   "outputs": [
    {
     "data": {
      "text/plain": [
       "[<matplotlib.lines.Line2D at 0x14ae95520>]"
      ]
     },
     "execution_count": 17,
     "metadata": {},
     "output_type": "execute_result"
    },
    {
     "data": {
      "image/png": "[encoded data removed]",
      "text/plain": [
       "<Figure size 640x480 with 1 Axes>"
      ]
     },
     "metadata": {},
     "output_type": "display_data"
    }
   ],
   "source": [
    "plt.plot(lossi)"
   ]
  },
  {
   "cell_type": "code",
   "execution_count": 18,
   "id": "4a754089",
   "metadata": {},
   "outputs": [
    {
     "name": "stdout",
     "output_type": "stream",
     "text": [
      "train 2.0690250396728516\n",
      "dev 2.130821943283081\n"
     ]
    }
   ],
   "source": [
    "@torch.no_grad()  # disables grad tracking\n",
    "def split_loss(split):\n",
    "    X, Y = {\"train\": (Xtr, Ytr), \"dev\": (Xde, Yde), \"test\": (Xte, Yte)}[split]\n",
    "    emb = C[X]\n",
    "    h = torch.tanh(emb.view(-1, 30) @ W1 + b1)\n",
    "    logits = h @ W2 + b2\n",
    "    loss = F.cross_entropy(logits, Y)\n",
    "    print(split, loss.item())\n",
    "\n",
    "\n",
    "split_loss(\"train\")\n",
    "split_loss(\"dev\")"
   ]
  },
  {
   "cell_type": "markdown",
   "id": "e015f719",
   "metadata": {},
   "source": [
    "#### 2. Dead Neurons"
   ]
  },
  {
   "cell_type": "code",
   "execution_count": 22,
   "id": "6bf452e1",
   "metadata": {},
   "outputs": [
    {
     "data": {
      "image/png": "[encoded data removed]",
      "text/plain": [
       "<Figure size 640x480 with 1 Axes>"
      ]
     },
     "metadata": {},
     "output_type": "display_data"
    }
   ],
   "source": [
    "plt.hist(h_first.view(-1).tolist(), bins=50);"
   ]
  },
  {
   "cell_type": "markdown",
   "id": "b1b32d05",
   "metadata": {},
   "source": [
    "Tanh activations are saturated to -1s and 1."
   ]
  },
  {
   "cell_type": "code",
   "execution_count": 24,
   "id": "efba8ffd",
   "metadata": {},
   "outputs": [
    {
     "data": {
      "image/png": "[encoded data removed]",
      "text/plain": [
       "<Figure size 640x480 with 1 Axes>"
      ]
     },
     "metadata": {},
     "output_type": "display_data"
    }
   ],
   "source": [
    "plt.hist(hpreact_first.view(-1).tolist(), bins=50);"
   ]
  },
  {
   "cell_type": "markdown",
   "id": "ebd16377",
   "metadata": {},
   "source": [
    "H preactivations are every brawd. from -15 to 15, causing tanh to mostly saturate at -1 and 1.\n",
    "\n",
    "Why this is a problem. - Because tanh's gradient at -1 or 1 is zero. If during init all inputs to that neuron produces -1 or 1. This neuron won't learn anything at any point as the gradient passing through this will be zero out - Causing this neuron to be dead"
   ]
  },
  {
   "cell_type": "code",
   "execution_count": 27,
   "id": "936a2870",
   "metadata": {},
   "outputs": [
    {
     "data": {
      "text/plain": [
       "<matplotlib.image.AxesImage at 0x10c448200>"
      ]
     },
     "execution_count": 27,
     "metadata": {},
     "output_type": "execute_result"
    },
    {
     "data": {
      "image/png": "[encoded data removed]",
      "text/plain": [
       "<Figure size 2000x1000 with 1 Axes>"
      ]
     },
     "metadata": {},
     "output_type": "display_data"
    }
   ],
   "source": [
    "plt.figure(figsize=(20, 10))\n",
    "plt.imshow(h_first.abs() > 0.99, cmap='gray', interpolation='nearest') # White true, black false"
   ]
  },
  {
   "cell_type": "markdown",
   "id": "2f9245c3",
   "metadata": {},
   "source": [
    "We are lucky here, as there no column that is entirely white / true, so no dead neuron\n",
    "\n",
    "**This can happen to other activations as well**\n",
    "\n",
    "**This can happen in the middle of training as well, when learning rate is very high causing neurons/activations to saturate at position where grads would be zero - causing brain damage**"
   ]
  },
  {
   "cell_type": "code",
   "execution_count": 28,
   "id": "c4e35ed3",
   "metadata": {},
   "outputs": [
    {
     "name": "stdout",
     "output_type": "stream",
     "text": [
      "11897\n"
     ]
    }
   ],
   "source": [
    "n_emb = 10  # number of embedding dim\n",
    "n_hidden = 200  # number of hidden neurons\n",
    "\n",
    "g = torch.Generator().manual_seed(2147483647)\n",
    "C = torch.randn((vocab_size, n_emb), generator=g)\n",
    "W1 = torch.randn((n_emb * block_size, n_hidden), generator=g) * 0.2 # <---------\n",
    "b1 = torch.randn(n_hidden, generator=g)                         * 0 # <----\n",
    "W2 = torch.randn((n_hidden, vocab_size), generator=g)           * 0.01 # <----\n",
    "b2 = torch.randn(vocab_size, generator=g)                       * 0 # <-----\n",
    "\n",
    "parameters = [C, W1, b1, W2, b2]\n",
    "print(sum(p.nelement() for p in parameters))\n",
    "for p in parameters:\n",
    "    p.requires_grad = True"
   ]
  },
  {
   "cell_type": "code",
   "execution_count": 29,
   "id": "a55e0c8c",
   "metadata": {},
   "outputs": [
    {
     "name": "stdout",
     "output_type": "stream",
     "text": [
      "      0/ 200000 3.2987\n",
      "  10000/ 200000 2.5487\n",
      "  20000/ 200000 1.9624\n",
      "  30000/ 200000 2.0648\n",
      "  40000/ 200000 1.9943\n",
      "  50000/ 200000 2.4095\n",
      "  60000/ 200000 2.4558\n",
      "  70000/ 200000 2.0860\n",
      "  80000/ 200000 2.0377\n",
      "  90000/ 200000 2.2253\n",
      " 100000/ 200000 2.0259\n",
      " 110000/ 200000 2.1193\n",
      " 120000/ 200000 2.0062\n",
      " 130000/ 200000 1.9672\n",
      " 140000/ 200000 2.2304\n",
      " 150000/ 200000 1.7442\n",
      " 160000/ 200000 1.9483\n",
      " 170000/ 200000 2.0644\n",
      " 180000/ 200000 2.1272\n",
      " 190000/ 200000 2.2469\n"
     ]
    }
   ],
   "source": [
    "max_steps = 200000\n",
    "batch_size = 32\n",
    "lossi = []\n",
    "h_first, hpreact_first = None, None\n",
    "\n",
    "for k in range(max_steps):\n",
    "    # minibatch\n",
    "    ix = torch.randint(0, Xtr.shape[0], (batch_size,))\n",
    "    Xb, Yb = Xtr[ix], Ytr[ix]\n",
    "\n",
    "    # forward pass\n",
    "    emb = C[Xb]  # (batch_size, block_size, n_emb)\n",
    "    embcat = emb.view(emb.shape[0], n_emb * block_size)\n",
    "    hpreact = embcat @ W1 + b1  # (batch_size, n_hidden)\n",
    "    h = torch.tanh(hpreact)\n",
    "    if h_first is None:\n",
    "        hpreact_first = hpreact\n",
    "        h_first = h\n",
    "    logits = h @ W2 + b2  # (batch_size, vocab_size)\n",
    "    loss = F.cross_entropy(logits, Yb)\n",
    "\n",
    "    # backward pass\n",
    "    for p in parameters:\n",
    "        p.grad = None\n",
    "    loss.backward()\n",
    "\n",
    "    # update params\n",
    "    lr = 0.1 if k < 100000 else 0.01  # step learning rate decay\n",
    "    for p in parameters:\n",
    "        p.data += -lr * p.grad\n",
    "\n",
    "    if k % 10000 == 0:\n",
    "        print(f\"{k:7d}/{max_steps:7d} {loss.item():.4f}\")\n",
    "\n",
    "    lossi.append(loss.log10().item())"
   ]
  },
  {
   "cell_type": "code",
   "execution_count": 30,
   "id": "5e725f56",
   "metadata": {},
   "outputs": [
    {
     "data": {
      "text/plain": [
       "[<matplotlib.lines.Line2D at 0x1772ac830>]"
      ]
     },
     "execution_count": 30,
     "metadata": {},
     "output_type": "execute_result"
    },
    {
     "data": {
      "image/png": "[encoded data removed]",
      "text/plain": [
       "<Figure size 640x480 with 1 Axes>"
      ]
     },
     "metadata": {},
     "output_type": "display_data"
    }
   ],
   "source": [
    "plt.plot(lossi)"
   ]
  },
  {
   "cell_type": "code",
   "execution_count": 31,
   "id": "f04d635b",
   "metadata": {},
   "outputs": [
    {
     "name": "stdout",
     "output_type": "stream",
     "text": [
      "train 2.03790545463562\n",
      "dev 2.1020028591156006\n"
     ]
    }
   ],
   "source": [
    "@torch.no_grad()  # disables grad tracking\n",
    "def split_loss(split):\n",
    "    X, Y = {\"train\": (Xtr, Ytr), \"dev\": (Xde, Yde), \"test\": (Xte, Yte)}[split]\n",
    "    emb = C[X]\n",
    "    h = torch.tanh(emb.view(-1, 30) @ W1 + b1)\n",
    "    logits = h @ W2 + b2\n",
    "    loss = F.cross_entropy(logits, Y)\n",
    "    print(split, loss.item())\n",
    "\n",
    "\n",
    "split_loss(\"train\")\n",
    "split_loss(\"dev\") "
   ]
  },
  {
   "cell_type": "code",
   "execution_count": 32,
   "id": "b8634321",
   "metadata": {},
   "outputs": [
    {
     "data": {
      "image/png": "[encoded data removed]",
      "text/plain": [
       "<Figure size 640x480 with 1 Axes>"
      ]
     },
     "metadata": {},
     "output_type": "display_data"
    }
   ],
   "source": [
    "plt.hist(h_first.view(-1).tolist(), bins=50);"
   ]
  },
  {
   "cell_type": "code",
   "execution_count": 33,
   "id": "5e212b93",
   "metadata": {},
   "outputs": [
    {
     "data": {
      "image/png": "[encoded data removed]",
      "text/plain": [
       "<Figure size 640x480 with 1 Axes>"
      ]
     },
     "metadata": {},
     "output_type": "display_data"
    }
   ],
   "source": [
    "plt.hist(hpreact_first.view(-1).tolist(), bins=50);"
   ]
  },
  {
   "cell_type": "code",
   "execution_count": 34,
   "id": "f35322b9",
   "metadata": {},
   "outputs": [
    {
     "data": {
      "text/plain": [
       "<matplotlib.image.AxesImage at 0x17755b8f0>"
      ]
     },
     "execution_count": 34,
     "metadata": {},
     "output_type": "execute_result"
    },
    {
     "data": {
      "image/png": "[encoded data removed]",
      "text/plain": [
       "<Figure size 2000x1000 with 1 Axes>"
      ]
     },
     "metadata": {},
     "output_type": "display_data"
    }
   ],
   "source": [
    "plt.figure(figsize=(20, 10))\n",
    "plt.imshow(h_first.abs() > 0.99, cmap='gray', interpolation='nearest') # White true, black false"
   ]
  },
  {
   "cell_type": "markdown",
   "id": "e6df9c28",
   "metadata": {},
   "source": [
    "Much better with a little bit of entropy"
   ]
  },
  {
   "cell_type": "markdown",
   "id": "5075b227",
   "metadata": {},
   "source": [
    "### Closer look at standard init'ing\n",
    "\n",
    "While these numbers weight scales are set manually, this almost never done when training NNs cause there are some ways of init'ing perform the same thing automatically."
   ]
  },
  {
   "cell_type": "code",
   "execution_count": 36,
   "id": "774e917b",
   "metadata": {},
   "outputs": [
    {
     "name": "stdout",
     "output_type": "stream",
     "text": [
      "tensor(0.0115) tensor(0.9979)\n",
      "tensor(-0.0041) tensor(3.1209)\n"
     ]
    },
    {
     "data": {
      "image/png": "[encoded data removed]",
      "text/plain": [
       "<Figure size 2000x500 with 2 Axes>"
      ]
     },
     "metadata": {},
     "output_type": "display_data"
    }
   ],
   "source": [
    "X = torch.randn(1000, 10)\n",
    "W = torch.randn(10, 200)\n",
    "y = X @ W # forget bias and non liniearity\n",
    "print(X.mean(), X.std())\n",
    "print(y.mean(), y.std())\n",
    "plt.figure(figsize=(20, 5))\n",
    "plt.subplot(121)\n",
    "plt.hist(X.view(-1).tolist(), 50, density=True);\n",
    "plt.subplot(122)\n",
    "plt.hist(y.view(-1).tolist(), 50, density=True);"
   ]
  },
  {
   "cell_type": "markdown",
   "id": "f4e610e6",
   "metadata": {},
   "source": [
    "If we see X's std is 1 as expected with randn init, but y's std is expanded to 3.12. This is the problem causing y to take extreme randes (-10 to 10 in the plot) causing activations to take extreme (no grad) positions\n",
    "\n",
    "Solution: the wieght scale should be set to $\\frac{1}{\\sqrt{fann}}$ where $fann$ is input dimension (in prev example 10)"
   ]
  },
  {
   "cell_type": "code",
   "execution_count": 37,
   "id": "ed58a874",
   "metadata": {},
   "outputs": [
    {
     "name": "stdout",
     "output_type": "stream",
     "text": [
      "tensor(0.0127) tensor(0.9951)\n",
      "tensor(-0.0016) tensor(1.0184)\n"
     ]
    },
    {
     "data": {
      "image/png": "[encoded data removed]",
      "text/plain": [
       "<Figure size 2000x500 with 2 Axes>"
      ]
     },
     "metadata": {},
     "output_type": "display_data"
    }
   ],
   "source": [
    "X = torch.randn(1000, 10)\n",
    "W = torch.randn(10, 200) / 10**0.5\n",
    "y = X @ W # forget bias and non liniearity\n",
    "print(X.mean(), X.std())\n",
    "print(y.mean(), y.std())\n",
    "plt.figure(figsize=(20, 5))\n",
    "plt.subplot(121)\n",
    "plt.hist(X.view(-1).tolist(), 50, density=True);\n",
    "plt.subplot(122)\n",
    "plt.hist(y.view(-1).tolist(), 50, density=True);"
   ]
  },
  {
   "cell_type": "markdown",
   "id": "01aea5b6",
   "metadata": {
    "vscode": {
     "languageId": "sql"
    }
   },
   "source": [
    "Now considering activations check [this paper](https://arxiv.org/pdf/1502.01852). This paper looked at CNNs with ReLU, PReLU but almost the same thing can be replicated to other actiovations as well.\n",
    "\n",
    "Quick TLDR:\n",
    "\n",
    "- Since ReLU is a squashing function that removes -ve values - half of the distribution is lost so the weight stddev should be $\\sqrt{\\frac{2}{fann}}$\n",
    "- If forward pass is properly init'd then backward pass it taken care of but up to point of depth of the NN - See paper.\n",
    "\n",
    "pytorch implementation - https://docs.pytorch.org/docs/stable/nn.init.html#torch.nn.init.kaiming_normal_\n",
    "\n",
    "Extanding same for tanh the weight stddev will be \n",
    "\n",
    "$$\\frac{\\frac{5}{3}}{\\sqrt{fann}}$$"
   ]
  },
  {
   "cell_type": "code",
   "execution_count": 45,
   "id": "85083b3b",
   "metadata": {},
   "outputs": [
    {
     "data": {
      "text/plain": [
       "0.3042903097250923"
      ]
     },
     "execution_count": 45,
     "metadata": {},
     "output_type": "execute_result"
    }
   ],
   "source": [
    "(5/3) / ((n_emb * block_size) ** 0.5)"
   ]
  },
  {
   "cell_type": "code",
   "execution_count": 46,
   "id": "f6bd4039",
   "metadata": {},
   "outputs": [
    {
     "name": "stdout",
     "output_type": "stream",
     "text": [
      "11897\n"
     ]
    }
   ],
   "source": [
    "n_emb = 10  # number of embedding dim\n",
    "n_hidden = 200  # number of hidden neurons\n",
    "\n",
    "g = torch.Generator().manual_seed(2147483647)\n",
    "C = torch.randn((vocab_size, n_emb), generator=g)\n",
    "W1 = torch.randn((n_emb * block_size, n_hidden), generator=g)   * ((5/3) / ((n_emb * block_size) ** 0.5)) # 0.2 (old) # <---------\n",
    "b1 = torch.randn(n_hidden, generator=g)                         * 0 # <----\n",
    "W2 = torch.randn((n_hidden, vocab_size), generator=g)           * 0.01 # <----\n",
    "b2 = torch.randn(vocab_size, generator=g)                       * 0 # <-----\n",
    "\n",
    "parameters = [C, W1, b1, W2, b2]\n",
    "print(sum(p.nelement() for p in parameters))\n",
    "for p in parameters:\n",
    "    p.requires_grad = True"
   ]
  },
  {
   "cell_type": "code",
   "execution_count": 47,
   "id": "58965a21",
   "metadata": {},
   "outputs": [
    {
     "name": "stdout",
     "output_type": "stream",
     "text": [
      "      0/ 200000 3.2752\n",
      "  10000/ 200000 2.3827\n",
      "  20000/ 200000 1.9351\n",
      "  30000/ 200000 2.4374\n",
      "  40000/ 200000 2.5588\n",
      "  50000/ 200000 2.4022\n",
      "  60000/ 200000 2.5538\n",
      "  70000/ 200000 1.8471\n",
      "  80000/ 200000 2.0225\n",
      "  90000/ 200000 2.1686\n",
      " 100000/ 200000 2.2555\n",
      " 110000/ 200000 2.0041\n",
      " 120000/ 200000 1.9330\n",
      " 130000/ 200000 2.0789\n",
      " 140000/ 200000 1.9286\n",
      " 150000/ 200000 2.0561\n",
      " 160000/ 200000 2.1031\n",
      " 170000/ 200000 2.2502\n",
      " 180000/ 200000 1.9499\n",
      " 190000/ 200000 1.9769\n"
     ]
    }
   ],
   "source": [
    "max_steps = 200000\n",
    "batch_size = 32\n",
    "lossi = []\n",
    "h_first, hpreact_first = None, None\n",
    "\n",
    "for k in range(max_steps):\n",
    "    # minibatch\n",
    "    ix = torch.randint(0, Xtr.shape[0], (batch_size,))\n",
    "    Xb, Yb = Xtr[ix], Ytr[ix]\n",
    "\n",
    "    # forward pass\n",
    "    emb = C[Xb]  # (batch_size, block_size, n_emb)\n",
    "    embcat = emb.view(emb.shape[0], n_emb * block_size)\n",
    "    hpreact = embcat @ W1 + b1  # (batch_size, n_hidden)\n",
    "    h = torch.tanh(hpreact)\n",
    "    if h_first is None:\n",
    "        hpreact_first = hpreact\n",
    "        h_first = h\n",
    "    logits = h @ W2 + b2  # (batch_size, vocab_size)\n",
    "    loss = F.cross_entropy(logits, Yb)\n",
    "\n",
    "    # backward pass\n",
    "    for p in parameters:\n",
    "        p.grad = None\n",
    "    loss.backward()\n",
    "\n",
    "    # update params\n",
    "    lr = 0.1 if k < 100000 else 0.01  # step learning rate decay\n",
    "    for p in parameters:\n",
    "        p.data += -lr * p.grad\n",
    "\n",
    "    if k % 10000 == 0:\n",
    "        print(f\"{k:7d}/{max_steps:7d} {loss.item():.4f}\")\n",
    "\n",
    "    lossi.append(loss.log10().item())"
   ]
  },
  {
   "cell_type": "code",
   "execution_count": 48,
   "id": "4bd9d367",
   "metadata": {},
   "outputs": [
    {
     "name": "stdout",
     "output_type": "stream",
     "text": [
      "train 2.0387256145477295\n",
      "dev 2.1051247119903564\n"
     ]
    }
   ],
   "source": [
    "@torch.no_grad()  # disables grad tracking\n",
    "def split_loss(split):\n",
    "    X, Y = {\"train\": (Xtr, Ytr), \"dev\": (Xde, Yde), \"test\": (Xte, Yte)}[split]\n",
    "    emb = C[X]\n",
    "    h = torch.tanh(emb.view(-1, 30) @ W1 + b1)\n",
    "    logits = h @ W2 + b2\n",
    "    loss = F.cross_entropy(logits, Y)\n",
    "    print(split, loss.item())\n",
    "\n",
    "\n",
    "split_loss(\"train\")\n",
    "split_loss(\"dev\") "
   ]
  },
  {
   "cell_type": "markdown",
   "id": "a12ff189",
   "metadata": {},
   "source": [
    "### Weight Init Conclusion\n",
    "\n",
    "These precise setting is almost made obsolete because of modern day innovations namely\n",
    "\n",
    "1. Residual Connections\n",
    "2. Normalization layers like Batch Norm, Layer Norm, Instance Norm etc\n",
    "3. More powerfull optimizers like RMSProp, Adam etc"
   ]
  },
  {
   "cell_type": "markdown",
   "id": "cf18d3a9",
   "metadata": {},
   "source": [
    "## Batch Normalization\n",
    "\n",
    "Batch Normalization is a technique to stabilize and speed up training in deep neural networks by normalizing the inputs of each layer.\n",
    "\n",
    "- It does this by normalizing the hidden state to be roughly gaussian. Gaussian initally, later allows scaling and shifting the normalized values with learned parameters (gamma, beta) to maintain model capacity.\n",
    "- Helps reduce internal covariate shift (changing input distributions).\n",
    "- Leads to stable training, reduced dependence on weight init'n and learning rate (to an extent)\n",
    "- Often leads to better generalization - as the gamma, betta changes -> leads to tiny changes in input -> leading to generalization.\n",
    "\n",
    "**Con**\n",
    "- Samples are \"combined / coupled\" inside a batch. This can be good as regularizer\n",
    "\n",
    "### Formulation\n",
    "\n",
    "**Init**\n",
    "$$\n",
    "\\gamma = \\mathbf{1}_{1 \\times m}, \\quad \\beta = \\mathbf{0}_{1 \\times m}\n",
    "$$\n",
    "where $m$ is batch size\n",
    "\n",
    "**During Training**\n",
    "\n",
    "Hidden state will be normalized\n",
    "$$\n",
    "\\mu_B = \\frac{1}{m} \\sum_{i=1}^m x_i \\\\\n",
    "\\sigma_B^2 = \\frac{1}{m} \\sum_{i=1}^m (x_i - \\mu_B)^2 \\\\\n",
    "\\hat{x}_i = \\frac{x_i - \\mu_B}{\\sqrt{\\sigma_B^2 + \\epsilon}}\n",
    "$$\n",
    "$\\epsilon$ is usually $e^{-5}$ to prevent divide by 0\n",
    "\n",
    "Normalized preactvations will be scaled and shifted using $\\gamma$ and $\\beta$\n",
    "$$\n",
    "\\hat{x}_i = \\gamma \\hat{x}_i + \\beta\n",
    "$$\n",
    "\n",
    "Typically running $\\mu$ and $\\sigma$ will be maintained to be used during inference\n",
    "$$\n",
    "\\mu_{\\text{running}} \\leftarrow (1 - \\alpha) \\cdot \\mu_{\\text{running}} + \\alpha \\cdot \\mu_B \\\\\n",
    "\\alpha = 0.001\n",
    "$$\n",
    "\n",
    "**During Inference**\n",
    "\n",
    "hidden states are normalized using running stats maintained during training\n",
    "$$\n",
    "\\hat{x}_i = \\frac{x_i - \\mu_{\\text{running}}}{\\sqrt{\\sigma^2_{\\text{running}} + \\epsilon}}\n",
    "$$\n",
    "\n",
    "Normalized preactvations will be scaled and shifted using $\\gamma$ and $\\beta$\n",
    "$$\n",
    "\\hat{x}_i = \\gamma \\hat{x}_i + \\beta\n",
    "$$"
   ]
  },
  {
   "cell_type": "code",
   "execution_count": 62,
   "id": "c7e31fd8",
   "metadata": {},
   "outputs": [
    {
     "name": "stdout",
     "output_type": "stream",
     "text": [
      "12097\n"
     ]
    }
   ],
   "source": [
    "n_emb = 10  # number of embedding dim\n",
    "n_hidden = 200  # number of hidden neurons\n",
    "\n",
    "g = torch.Generator().manual_seed(2147483647)\n",
    "C = torch.randn((vocab_size, n_emb), generator=g)\n",
    "W1 = torch.randn((n_emb * block_size, n_hidden), generator=g)   * ((5/3) / ((n_emb * block_size) ** 0.5)) # 0.2 (old) # <---------\n",
    "# b1 = torch.randn(n_hidden, generator=g)                         * 0 # <----\n",
    "W2 = torch.randn((n_hidden, vocab_size), generator=g)           * 0.01 # <----\n",
    "b2 = torch.randn(vocab_size, generator=g)                       * 0 # <-----\n",
    "\n",
    "# ---------- Batch Normalization Param -------\n",
    "## -- Learnable PArams\n",
    "bngain = torch.ones((1, n_hidden))  # gamma\n",
    "bnbias = torch.zeros((1, n_hidden))  # beta\n",
    "## -- Running stats\n",
    "bnmean_running = torch.zeros((1, n_hidden))\n",
    "bnstd_running = torch.ones((1, n_hidden))\n",
    "# ---------------------------------------------\n",
    "\n",
    "# parameters = [C, W1, b1, W2, b2, bnbias, bngain]\n",
    "parameters = [C, W1, W2, b2, bnbias, bngain] # bias removed\n",
    "print(sum(p.nelement() for p in parameters))\n",
    "for p in parameters:\n",
    "    p.requires_grad = True"
   ]
  },
  {
   "cell_type": "code",
   "execution_count": 63,
   "id": "df49b4e5",
   "metadata": {},
   "outputs": [
    {
     "name": "stdout",
     "output_type": "stream",
     "text": [
      "      0/ 200000 3.3077\n",
      "  10000/ 200000 2.3406\n",
      "  20000/ 200000 2.0351\n",
      "  30000/ 200000 2.0083\n",
      "  40000/ 200000 2.2079\n",
      "  50000/ 200000 2.2869\n",
      "  60000/ 200000 2.0623\n",
      "  70000/ 200000 1.8437\n",
      "  80000/ 200000 1.9519\n",
      "  90000/ 200000 2.2801\n",
      " 100000/ 200000 2.4778\n",
      " 110000/ 200000 2.4236\n",
      " 120000/ 200000 2.4934\n",
      " 130000/ 200000 1.6808\n",
      " 140000/ 200000 2.0282\n",
      " 150000/ 200000 1.9820\n",
      " 160000/ 200000 2.1588\n",
      " 170000/ 200000 2.4927\n",
      " 180000/ 200000 2.4751\n",
      " 190000/ 200000 2.1679\n"
     ]
    }
   ],
   "source": [
    "max_steps = 200000\n",
    "batch_size = 32\n",
    "lossi = []\n",
    "\n",
    "for k in range(max_steps):\n",
    "    # minibatch\n",
    "    ix = torch.randint(0, Xtr.shape[0], (batch_size,))\n",
    "    Xb, Yb = Xtr[ix], Ytr[ix]\n",
    "\n",
    "    # forward pass\n",
    "    emb = C[Xb]  # (batch_size, block_size, n_emb)\n",
    "    embcat = emb.view(emb.shape[0], n_emb * block_size)\n",
    "    hpreact = embcat @ W1 # + b1  # (batch_size, n_hidden)\n",
    "    \n",
    "    # -------- Batch Normalization ---------\n",
    "    \n",
    "    bnmeani = hpreact.mean(0, keepdim=True)\n",
    "    bnstdi = hpreact.std(0, keepdim=True)\n",
    "    hpreact = bngain * (hpreact - bnmeani) / bnstdi + bnbias\n",
    "    \n",
    "    with torch.no_grad():\n",
    "        bnmean_running = 0.999 * bnmean_running + 0.001 * bnmeani\n",
    "        bnstd_running = 0.999 * bnstd_running + 0.001 * bnstdi\n",
    "        \n",
    "    # --------------------------------------\n",
    "    h = torch.tanh(hpreact)\n",
    "    logits = h @ W2 + b2  # (batch_size, vocab_size)\n",
    "    loss = F.cross_entropy(logits, Yb)\n",
    "\n",
    "    # backward pass\n",
    "    for p in parameters:\n",
    "        p.grad = None\n",
    "    loss.backward()\n",
    "\n",
    "    # update params\n",
    "    lr = 0.1 if k < 100000 else 0.01  # step learning rate decay\n",
    "    for p in parameters:\n",
    "        p.data += -lr * p.grad\n",
    "\n",
    "    if k % 10000 == 0:\n",
    "        print(f\"{k:7d}/{max_steps:7d} {loss.item():.4f}\")\n",
    "\n",
    "    lossi.append(loss.log10().item())"
   ]
  },
  {
   "cell_type": "code",
   "execution_count": 64,
   "id": "be3d550b",
   "metadata": {},
   "outputs": [
    {
     "data": {
      "text/plain": [
       "[<matplotlib.lines.Line2D at 0x177b0be90>]"
      ]
     },
     "execution_count": 64,
     "metadata": {},
     "output_type": "execute_result"
    },
    {
     "data": {
      "image/png": "[encoded data removed]",
      "text/plain": [
       "<Figure size 640x480 with 1 Axes>"
      ]
     },
     "metadata": {},
     "output_type": "display_data"
    }
   ],
   "source": [
    "plt.plot(lossi)"
   ]
  },
  {
   "cell_type": "code",
   "execution_count": 66,
   "id": "864c7cfd",
   "metadata": {},
   "outputs": [
    {
     "name": "stdout",
     "output_type": "stream",
     "text": [
      "train 2.066974639892578\n",
      "dev 2.1081862449645996\n"
     ]
    }
   ],
   "source": [
    "@torch.no_grad()  # disables grad tracking\n",
    "def split_loss(split):\n",
    "    X, Y = {\"train\": (Xtr, Ytr), \"dev\": (Xde, Yde), \"test\": (Xte, Yte)}[split]\n",
    "    emb = C[X]\n",
    "    hpreact = emb.view(-1, 30) @ W1 # + b1\n",
    "    # -------- Batch Normalization ---------\n",
    "    hpreact = (bngain * (hpreact - bnmean_running) / bnstd_running + bnbias)\n",
    "    # -------------------------------------\n",
    "    h = torch.tanh(hpreact)\n",
    "    logits = h @ W2 + b2\n",
    "    loss = F.cross_entropy(logits, Y)\n",
    "    print(split, loss.item())\n",
    "\n",
    "\n",
    "split_loss(\"train\")\n",
    "split_loss(\"dev\")"
   ]
  },
  {
   "cell_type": "markdown",
   "id": "c1b3f329",
   "metadata": {},
   "source": [
    "**Note** biases are useless as the hidden state is normalized. so not be wastefull as set `use_bias=False` in Linear (/Conv) layers when using batch norm"
   ]
  },
  {
   "cell_type": "code",
   "execution_count": null,
   "id": "ea186b60",
   "metadata": {},
   "outputs": [],
   "source": []
  }
 ],
 "metadata": {
  "kernelspec": {
   "display_name": "default",
   "language": "python",
   "name": "python3"
  },
  "language_info": {
   "codemirror_mode": {
    "name": "ipython",
    "version": 3
   },
   "file_extension": ".py",
   "mimetype": "text/x-python",
   "name": "python",
   "nbconvert_exporter": "python",
   "pygments_lexer": "ipython3",
   "version": "3.12.10"
  }
 },
 "nbformat": 4,
 "nbformat_minor": 5
}
